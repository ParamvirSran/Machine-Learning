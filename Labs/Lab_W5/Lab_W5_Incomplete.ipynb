{
 "cells": [
  {
   "cell_type": "markdown",
   "metadata": {
    "id": "HweKuUPTskvJ"
   },
   "source": [
    "<h1>Preliminaries</h1>\n"
   ]
  },
  {
   "cell_type": "code",
   "execution_count": 7,
   "metadata": {
    "ExecuteTime": {
     "end_time": "2024-02-06T14:24:16.805942Z",
     "start_time": "2024-02-06T14:24:16.781290Z"
    },
    "id": "BXf-Kp34LZiw"
   },
   "outputs": [],
   "source": [
    "import numpy as np\n",
    "import pandas as pd\n",
    "import matplotlib.pyplot as plt\n",
    "from scipy.stats import t\n",
    "import seaborn as sns\n",
    "import sklearn.model_selection\n",
    "import sklearn.linear_model\n",
    "np.random.seed(0)\n"
   ]
  },
  {
   "cell_type": "markdown",
   "metadata": {
    "id": "LTy2kog7skvP"
   },
   "source": [
    "<h1>1. Constructing confidence interval via Central Limit Theorem</h1>\n",
    "\n",
    "<p>Recap:<br>\n",
    "CLT says, in many situations, when independent random variables are summed up, their properly normalized sum tends toward a normal distribution even if the original variables themselves are not normally distributed. This is a key concept in probability theory because it implies that probabilistic and statistical methods that work for normal distributions can be applicable to many problems involving other types of distributions.</p>\n"
   ]
  },
  {
   "cell_type": "code",
   "execution_count": 8,
   "metadata": {
    "ExecuteTime": {
     "end_time": "2024-02-06T14:24:17.389970Z",
     "start_time": "2024-02-06T14:24:17.377504Z"
    },
    "id": "F11XCixlskvQ",
    "outputId": "e4173823-d67a-47e7-857e-23b798d1ba9b"
   },
   "outputs": [
    {
     "data": {
      "text/html": [
       "<div>\n",
       "<style scoped>\n",
       "    .dataframe tbody tr th:only-of-type {\n",
       "        vertical-align: middle;\n",
       "    }\n",
       "\n",
       "    .dataframe tbody tr th {\n",
       "        vertical-align: top;\n",
       "    }\n",
       "\n",
       "    .dataframe thead th {\n",
       "        text-align: right;\n",
       "    }\n",
       "</style>\n",
       "<table border=\"1\" class=\"dataframe\">\n",
       "  <thead>\n",
       "    <tr style=\"text-align: right;\">\n",
       "      <th></th>\n",
       "      <th>Match</th>\n",
       "    </tr>\n",
       "  </thead>\n",
       "  <tbody>\n",
       "    <tr>\n",
       "      <th>0</th>\n",
       "      <td>1.0</td>\n",
       "    </tr>\n",
       "    <tr>\n",
       "      <th>1</th>\n",
       "      <td>1.0</td>\n",
       "    </tr>\n",
       "  </tbody>\n",
       "</table>\n",
       "</div>"
      ],
      "text/plain": [
       "   Match\n",
       "0    1.0\n",
       "1    1.0"
      ]
     },
     "execution_count": 8,
     "metadata": {},
     "output_type": "execute_result"
    }
   ],
   "source": [
    "# From the PTSD paper cited in Slide 26 (A Blood Test Might One Day Mass Screen Military Personnel\n",
    "# for Post-Traumatic Stress Disorder (PTSD)), there were 52 test cases 42 of which were correct\n",
    "\n",
    "n = 52 # total number of the test set sample\n",
    "c = 42 # predicted correctly 42 cases\n",
    "\n",
    "# Create array of zeros, size n\n",
    "rawdata = np.zeros(n)\n",
    "\n",
    "# Set first c elements to 1\n",
    "rawdata[range(c)] = 1\n",
    "\n",
    "# Create pandas data frame\n",
    "data = pd.DataFrame({\"Match\": rawdata})\n",
    "data.head(2)\n"
   ]
  },
  {
   "cell_type": "markdown",
   "metadata": {
    "id": "IIvTcH6AskvS"
   },
   "source": [
    "First, we'll build the confidence interval assuming a normal variable\n"
   ]
  },
  {
   "cell_type": "code",
   "execution_count": 11,
   "metadata": {
    "ExecuteTime": {
     "end_time": "2024-02-06T14:45:20.901847Z",
     "start_time": "2024-02-06T14:45:20.879440Z"
    },
    "id": "9RFoHjsSskvU",
    "outputId": "7ffd6735-91b5-4881-ad8b-aa183dae03ae"
   },
   "outputs": [
    {
     "name": "stdout",
     "output_type": "stream",
     "text": [
      "Stderr: 0.055\n",
      "Norm ci: [0.7005710406043021, 0.9148135747803133]\n"
     ]
    }
   ],
   "source": [
    "## Using central limit theorem, compute confidence interval\n",
    "\n",
    "\n",
    "stderr = np.sqrt( (c/n) * (1 - c/n) / n)\n",
    "print(\"Stderr: %.3f\" % stderr)\n",
    "\n",
    "# Area under a standard normal from -1.96 to 1.96 is about 95% (3 for 99.9% probability)\n",
    "critval = 1.96\n",
    "\n",
    "# Confidence interval\n",
    "norm_ci = [c/n - critval * stderr, c/n + critval * stderr]\n",
    "\n",
    "print(\"Norm ci:\",norm_ci)\n",
    "\n",
    "# Stderr: 0.055\n",
    "# Norm ci: [0.7, 0.916]\n"
   ]
  },
  {
   "cell_type": "markdown",
   "metadata": {
    "id": "CmIFsqf6skvV"
   },
   "source": [
    "[t_test](https://en.wikipedia.org/wiki/Student%27s_t-test)\n",
    "\n",
    "[t-distribution](https://en.wikipedia.org/wiki/Student%27s_t-distribution)\n",
    "\n",
    "If we take a sample of $n$ observations from a normal distribution, then the t-distribution with $n − 1$ degrees of freedom can be defined as the distribution of the location of the sample mean relative to the true mean, divided by the sample standard deviation, after multiplying by the standardizing term $\\sqrt {n}$. In this way, the t-distribution can be used to construct a confidence interval for the true mean.\n"
   ]
  },
  {
   "cell_type": "markdown",
   "metadata": {
    "id": "nYG26u7fskvW"
   },
   "source": [
    "What if we use a t-test?\n",
    "\n",
    "$$ EBM = (t\\_{1-\\alpha/2, n-1}) (\\dfrac{s}{\\sqrt{n}}) $$\n",
    "\n",
    "EBM: Error bound for a population mean\n",
    "\n",
    "$s$: The population $\\sigma$ is not known, we estimate $\\sigma$ with $s$ which is the sample's standard deviation.\n",
    "\n",
    "Confidence interval for $(1-\\alpha)100\\%$ confidence level is $\\bar{x} \\pm  EBM$\n",
    "\n",
    "The t distribution is available for us to use in the [scipy.stats.t package](https://docs.scipy.org/doc/scipy/reference/generated/scipy.stats.t.html).\n",
    "\n",
    "You can see different implemented probability distributions [Statistical functions.](https://docs.scipy.org/doc/scipy/reference/stats.html)\n"
   ]
  },
  {
   "cell_type": "code",
   "execution_count": 15,
   "metadata": {
    "ExecuteTime": {
     "end_time": "2024-02-06T14:48:59.642351Z",
     "start_time": "2024-02-06T14:48:59.618036Z"
    },
    "id": "pZ0b0h4VskvY",
    "outputId": "f8f9f7e1-c027-4a7f-d9f8-bf17c55672d8"
   },
   "outputs": [
    {
     "name": "stdout",
     "output_type": "stream",
     "text": [
      "The t-based confidence interval is equal to [0.698 0.917]\n"
     ]
    }
   ],
   "source": [
    "# Get the critical values for t at an alpha = 0.05/2 (i.e., 5% divided by 2), and 52-1 = 51 dof.\n",
    "alpha = (1 - 0.95)\n",
    "crit_val = t.ppf(1 - alpha/2, n-1)\n",
    "# Degrees of freedom (dof) of an estimate is the number of independent\n",
    "# pieces of information that went into calculating the estimate.\n",
    "dof = n - 1\n",
    "# the precise shape of the t distribution depends on dof, which is related to the sample size.\n",
    "\n",
    "# ppf: percent point function (inverse of cdf — percentiles).\n",
    "# It returns the value x of the variable that has a given cumulative distribution probability (cdf).\n",
    "# Thus, given the cdf(x) of a x value, ppf returns the value x itself, therefore, operating as the inverse of cdf.\n",
    "t_value =  t.ppf(1 - alpha/2, dof)\n",
    "\n",
    "\n",
    "\n",
    "t_ci = data.Match.mean() + t_value * stderr * np.array([-1, 1])\n",
    "print('The t-based confidence interval is equal to {}'.format(t_ci.round(3)))\n"
   ]
  },
  {
   "cell_type": "markdown",
   "metadata": {
    "id": "oXtC8vFhskvZ"
   },
   "source": [
    "The t-based critical value equals to 2.01 which is a little bit different from 1.96. The difference is 0.05 that is about 2% off from the normal approximation. Depending on your application 2% off may or may not be significant. If it is not, you can use the normal approximation.\n"
   ]
  },
  {
   "cell_type": "markdown",
   "metadata": {
    "id": "Jov7Liu-LZix",
    "tags": []
   },
   "source": [
    "<h1>2. Constructing confidence interval via bootstrapping</h1>\n"
   ]
  },
  {
   "cell_type": "code",
   "execution_count": 16,
   "metadata": {
    "ExecuteTime": {
     "end_time": "2024-02-06T14:49:37.403590Z",
     "start_time": "2024-02-06T14:49:37.354568Z"
    },
    "colab": {
     "base_uri": "https://localhost:8080/",
     "height": 206
    },
    "executionInfo": {
     "elapsed": 15,
     "status": "ok",
     "timestamp": 1668013586432,
     "user": {
      "displayName": "Alireza Fazeli",
      "userId": "13019604121988176443"
     },
     "user_tz": 300
    },
    "id": "L6UD7qwDLZiz",
    "outputId": "f4b29576-1fd9-4caa-923c-761c768b06aa"
   },
   "outputs": [
    {
     "data": {
      "text/html": [
       "<div>\n",
       "<style scoped>\n",
       "    .dataframe tbody tr th:only-of-type {\n",
       "        vertical-align: middle;\n",
       "    }\n",
       "\n",
       "    .dataframe tbody tr th {\n",
       "        vertical-align: top;\n",
       "    }\n",
       "\n",
       "    .dataframe thead th {\n",
       "        text-align: right;\n",
       "    }\n",
       "</style>\n",
       "<table border=\"1\" class=\"dataframe\">\n",
       "  <thead>\n",
       "    <tr style=\"text-align: right;\">\n",
       "      <th></th>\n",
       "      <th>Match</th>\n",
       "    </tr>\n",
       "  </thead>\n",
       "  <tbody>\n",
       "    <tr>\n",
       "      <th>0</th>\n",
       "      <td>1.0</td>\n",
       "    </tr>\n",
       "    <tr>\n",
       "      <th>1</th>\n",
       "      <td>1.0</td>\n",
       "    </tr>\n",
       "    <tr>\n",
       "      <th>2</th>\n",
       "      <td>1.0</td>\n",
       "    </tr>\n",
       "    <tr>\n",
       "      <th>3</th>\n",
       "      <td>1.0</td>\n",
       "    </tr>\n",
       "    <tr>\n",
       "      <th>4</th>\n",
       "      <td>1.0</td>\n",
       "    </tr>\n",
       "  </tbody>\n",
       "</table>\n",
       "</div>"
      ],
      "text/plain": [
       "   Match\n",
       "0    1.0\n",
       "1    1.0\n",
       "2    1.0\n",
       "3    1.0\n",
       "4    1.0"
      ]
     },
     "execution_count": 16,
     "metadata": {},
     "output_type": "execute_result"
    }
   ],
   "source": [
    "# From PTSD paper, there were 52 test cases, 42 of which were correct\n",
    "n = 52\n",
    "c = 42\n",
    "\n",
    "# Create array of zeros, size n\n",
    "rawdata = np.zeros(n)\n",
    "\n",
    "# Set first c elements to 1\n",
    "rawdata[range(c)] = 1\n",
    "\n",
    "# Create pandas data frame\n",
    "data = pd.DataFrame({\"Match\": rawdata})\n",
    "data.head()\n"
   ]
  },
  {
   "cell_type": "code",
   "execution_count": 18,
   "metadata": {
    "ExecuteTime": {
     "end_time": "2024-02-06T15:04:43.728576Z",
     "start_time": "2024-02-06T15:04:43.715614Z"
    },
    "id": "uPg_JbX4LZi0"
   },
   "outputs": [],
   "source": [
    "# Compute 10000 bootstrap datasets, compute means in each\n",
    "\n",
    "def createBootstrapMeans(data, numboot=10000):\n",
    "    n = len(data)\n",
    "    boot_means = np.zeros(numboot)\n",
    "    for i in range(numboot):\n",
    "        d = data.sample(n, replace=True)\n",
    "        boot_means[i] = d.Match.mean()\n",
    "    return boot_means\n"
   ]
  },
  {
   "cell_type": "code",
   "execution_count": 19,
   "metadata": {
    "ExecuteTime": {
     "end_time": "2024-02-06T15:04:46.260879Z",
     "start_time": "2024-02-06T15:04:43.946219Z"
    },
    "colab": {
     "base_uri": "https://localhost:8080/",
     "height": 300
    },
    "executionInfo": {
     "elapsed": 7584,
     "status": "ok",
     "timestamp": 1668013594007,
     "user": {
      "displayName": "Alireza Fazeli",
      "userId": "13019604121988176443"
     },
     "user_tz": 300
    },
    "id": "dhf-nwgsLZi2",
    "outputId": "51b98e42-ba32-4b61-f505-16374b2697ae"
   },
   "outputs": [
    {
     "data": {
      "image/png": "[encoded data removed]",
      "text/plain": [
       "<Figure size 640x480 with 2 Axes>"
      ]
     },
     "metadata": {},
     "output_type": "display_data"
    },
    {
     "name": "stdout",
     "output_type": "stream",
     "text": [
      "Boot Confidence Interval: [0.7115384615384616, 0.9230769230769231]\n"
     ]
    }
   ],
   "source": [
    "# even though we are not using seaborn we can style the plots with it\n",
    "sns.set_style(\"darkgrid\") \n",
    "\n",
    "# Create a dataframe\n",
    "bm = pd.DataFrame(data=createBootstrapMeans(data)-data.Match.mean(), columns=['samples'])\n",
    "\n",
    "# Plot histogram and KDE\n",
    "ax = bm.samples.plot(kind='hist')\n",
    "bm.samples.plot(kind='kde', ax=ax, secondary_y=True)\n",
    "plt.show()\n",
    "\n",
    "# Bootstrap with CL of 95%\n",
    "boot_CL = np.percentile(bm, [2.5, 97.5])\n",
    "p_1 = 0.025\n",
    "p_2 =   1 - p_1\n",
    "boot_quant = np.quantile(bm, [p_1, p_2])\n",
    "# print('boot_quant:',boot_quant)\n",
    "# boot_quant = np.quantile(bm, [p_1, p_2]) gives -0.12 and 0.1. This means we are 95%\n",
    "# confident that the calculated statistic for Boot is somewhere between 0.12 lower than\n",
    "# the sample's up to 0.1 higher than the sample's. And from this we deduce that the\n",
    "# sample's statistic is between 0.12 lower than the population's up to 0.1 higher than\n",
    "# the population's:  Population-0.12 < Sample < Population+0.1\n",
    "# We are eventually interested in getting a CI that embraces the population's. Rearranging\n",
    "# the above inequality yields: Sample-0.1 < Population < Sample+0.12\n",
    "# We are 95% confident that the population's statistic is somewhere between 0.1 lower than\n",
    "# the sample's up to 0.12 higher than the sample's.\n",
    "\n",
    "# Compute confidence interval\n",
    "boot_ci = [data.Match.mean() - boot_CL[1], data.Match.mean() - boot_CL[0]]\n",
    "print(\"Boot Confidence Interval:\",boot_ci)\n",
    "\n",
    "# In the previous cells we saw:\n",
    "# Norm CI: [0.701, 0.915]\n",
    "# t    CI: [0.698 0.917]\n"
   ]
  },
  {
   "cell_type": "markdown",
   "metadata": {
    "id": "70J7tXQ_LZi5"
   },
   "source": [
    "<h1> 3. Bootstrapping of regression model </h1>\n"
   ]
  },
  {
   "cell_type": "markdown",
   "metadata": {
    "id": "9fAhVGDaLZi7"
   },
   "source": [
    "<h2> 3.1. Making a model </h2>\n"
   ]
  },
  {
   "cell_type": "code",
   "execution_count": 20,
   "metadata": {
    "ExecuteTime": {
     "end_time": "2024-02-06T15:10:07.816761Z",
     "start_time": "2024-02-06T15:10:07.798269Z"
    },
    "colab": {
     "base_uri": "https://localhost:8080/",
     "height": 206
    },
    "executionInfo": {
     "elapsed": 12,
     "status": "ok",
     "timestamp": 1668013594008,
     "user": {
      "displayName": "Alireza Fazeli",
      "userId": "13019604121988176443"
     },
     "user_tz": 300
    },
    "id": "9mOL3itYLZi8",
    "outputId": "2f98fc1b-fda6-449d-ba6e-ccd52b925f35"
   },
   "outputs": [
    {
     "data": {
      "text/html": [
       "<div>\n",
       "<style scoped>\n",
       "    .dataframe tbody tr th:only-of-type {\n",
       "        vertical-align: middle;\n",
       "    }\n",
       "\n",
       "    .dataframe tbody tr th {\n",
       "        vertical-align: top;\n",
       "    }\n",
       "\n",
       "    .dataframe thead th {\n",
       "        text-align: right;\n",
       "    }\n",
       "</style>\n",
       "<table border=\"1\" class=\"dataframe\">\n",
       "  <thead>\n",
       "    <tr style=\"text-align: right;\">\n",
       "      <th></th>\n",
       "      <th>fage</th>\n",
       "      <th>mage</th>\n",
       "      <th>mature</th>\n",
       "      <th>weeks</th>\n",
       "      <th>premie</th>\n",
       "      <th>visits</th>\n",
       "      <th>marital</th>\n",
       "      <th>gained</th>\n",
       "      <th>weight</th>\n",
       "      <th>lowbirthweight</th>\n",
       "      <th>gender</th>\n",
       "      <th>habit</th>\n",
       "      <th>whitemom</th>\n",
       "    </tr>\n",
       "  </thead>\n",
       "  <tbody>\n",
       "    <tr>\n",
       "      <th>0</th>\n",
       "      <td>NaN</td>\n",
       "      <td>13</td>\n",
       "      <td>younger mom</td>\n",
       "      <td>39.0</td>\n",
       "      <td>full term</td>\n",
       "      <td>10.0</td>\n",
       "      <td>married</td>\n",
       "      <td>38.0</td>\n",
       "      <td>7.63</td>\n",
       "      <td>not low</td>\n",
       "      <td>male</td>\n",
       "      <td>nonsmoker</td>\n",
       "      <td>not white</td>\n",
       "    </tr>\n",
       "    <tr>\n",
       "      <th>1</th>\n",
       "      <td>NaN</td>\n",
       "      <td>14</td>\n",
       "      <td>younger mom</td>\n",
       "      <td>42.0</td>\n",
       "      <td>full term</td>\n",
       "      <td>15.0</td>\n",
       "      <td>married</td>\n",
       "      <td>20.0</td>\n",
       "      <td>7.88</td>\n",
       "      <td>not low</td>\n",
       "      <td>male</td>\n",
       "      <td>nonsmoker</td>\n",
       "      <td>not white</td>\n",
       "    </tr>\n",
       "    <tr>\n",
       "      <th>2</th>\n",
       "      <td>19.0</td>\n",
       "      <td>15</td>\n",
       "      <td>younger mom</td>\n",
       "      <td>37.0</td>\n",
       "      <td>full term</td>\n",
       "      <td>11.0</td>\n",
       "      <td>married</td>\n",
       "      <td>38.0</td>\n",
       "      <td>6.63</td>\n",
       "      <td>not low</td>\n",
       "      <td>female</td>\n",
       "      <td>nonsmoker</td>\n",
       "      <td>white</td>\n",
       "    </tr>\n",
       "    <tr>\n",
       "      <th>3</th>\n",
       "      <td>21.0</td>\n",
       "      <td>15</td>\n",
       "      <td>younger mom</td>\n",
       "      <td>41.0</td>\n",
       "      <td>full term</td>\n",
       "      <td>6.0</td>\n",
       "      <td>married</td>\n",
       "      <td>34.0</td>\n",
       "      <td>8.00</td>\n",
       "      <td>not low</td>\n",
       "      <td>male</td>\n",
       "      <td>nonsmoker</td>\n",
       "      <td>white</td>\n",
       "    </tr>\n",
       "    <tr>\n",
       "      <th>4</th>\n",
       "      <td>NaN</td>\n",
       "      <td>15</td>\n",
       "      <td>younger mom</td>\n",
       "      <td>39.0</td>\n",
       "      <td>full term</td>\n",
       "      <td>9.0</td>\n",
       "      <td>married</td>\n",
       "      <td>27.0</td>\n",
       "      <td>6.38</td>\n",
       "      <td>not low</td>\n",
       "      <td>female</td>\n",
       "      <td>nonsmoker</td>\n",
       "      <td>not white</td>\n",
       "    </tr>\n",
       "  </tbody>\n",
       "</table>\n",
       "</div>"
      ],
      "text/plain": [
       "   fage  mage       mature  weeks     premie  visits  marital  gained  weight  \\\n",
       "0   NaN    13  younger mom   39.0  full term    10.0  married    38.0    7.63   \n",
       "1   NaN    14  younger mom   42.0  full term    15.0  married    20.0    7.88   \n",
       "2  19.0    15  younger mom   37.0  full term    11.0  married    38.0    6.63   \n",
       "3  21.0    15  younger mom   41.0  full term     6.0  married    34.0    8.00   \n",
       "4   NaN    15  younger mom   39.0  full term     9.0  married    27.0    6.38   \n",
       "\n",
       "  lowbirthweight  gender      habit   whitemom  \n",
       "0        not low    male  nonsmoker  not white  \n",
       "1        not low    male  nonsmoker  not white  \n",
       "2        not low  female  nonsmoker      white  \n",
       "3        not low    male  nonsmoker      white  \n",
       "4        not low  female  nonsmoker  not white  "
      ]
     },
     "execution_count": 20,
     "metadata": {},
     "output_type": "execute_result"
    }
   ],
   "source": [
    "# Data: 1000 births from North Carolina\n",
    "# https://www.openintro.org/stat/data/?data=nc\n",
    "# We are interested in the link between \n",
    "# Weeks: gestation time (length of the pregnancy in weeks) \n",
    "# Weight: Birth weight im pounds\n",
    "D = pd.read_csv(\"nc.csv\")\n",
    "D.head()\n"
   ]
  },
  {
   "cell_type": "code",
   "execution_count": 21,
   "metadata": {
    "ExecuteTime": {
     "end_time": "2024-02-06T15:10:50.230784Z",
     "start_time": "2024-02-06T15:10:50.216835Z"
    },
    "colab": {
     "base_uri": "https://localhost:8080/"
    },
    "executionInfo": {
     "elapsed": 11,
     "status": "ok",
     "timestamp": 1668013594009,
     "user": {
      "displayName": "Alireza Fazeli",
      "userId": "13019604121988176443"
     },
     "user_tz": 300
    },
    "id": "gdaNkV9_LZi9",
    "outputId": "6fb031a2-c728-495a-9207-da5f9992bb9e"
   },
   "outputs": [
    {
     "name": "stdout",
     "output_type": "stream",
     "text": [
      "Number of NaN: 2\n"
     ]
    }
   ],
   "source": [
    "# Check for missing data and exclude observations\n",
    "print(\"Number of NaN:\",sum(np.isnan(D.weeks)))\n",
    "D = D[~np.isnan(D.weeks)]\n"
   ]
  },
  {
   "cell_type": "code",
   "execution_count": 22,
   "metadata": {
    "ExecuteTime": {
     "end_time": "2024-02-06T15:11:31.919163Z",
     "start_time": "2024-02-06T15:11:31.557812Z"
    },
    "colab": {
     "base_uri": "https://localhost:8080/",
     "height": 441
    },
    "executionInfo": {
     "elapsed": 1024,
     "status": "ok",
     "timestamp": 1668013595025,
     "user": {
      "displayName": "Alireza Fazeli",
      "userId": "13019604121988176443"
     },
     "user_tz": 300
    },
    "id": "h46qHZ9xLZi9",
    "outputId": "9ae82f4b-e155-4b7f-8523-be0d1a7b348b"
   },
   "outputs": [
    {
     "name": "stderr",
     "output_type": "stream",
     "text": [
      "/Users/parm/anaconda3/envs/DSenv/lib/python3.11/site-packages/seaborn/_oldcore.py:1119: FutureWarning: use_inf_as_na option is deprecated and will be removed in a future version. Convert inf values to NaN before operating instead.\n",
      "  with pd.option_context('mode.use_inf_as_na', True):\n",
      "/Users/parm/anaconda3/envs/DSenv/lib/python3.11/site-packages/seaborn/_oldcore.py:1119: FutureWarning: use_inf_as_na option is deprecated and will be removed in a future version. Convert inf values to NaN before operating instead.\n",
      "  with pd.option_context('mode.use_inf_as_na', True):\n"
     ]
    },
    {
     "data": {
      "image/png": "[encoded data removed]",
      "text/plain": [
       "<Figure size 600x600 with 3 Axes>"
      ]
     },
     "metadata": {},
     "output_type": "display_data"
    }
   ],
   "source": [
    "# Make a Joint plot between weeks and weight\n",
    "sns.jointplot(data = D, x = \"weeks\", y = \"weight\")\n",
    "\n",
    "# # You can also plot the joint probability distribution\n",
    "# kdeplot = sns.jointplot(data=D, x='weeks', y='weight', kind='kde', fill=True, cbar=True)\n",
    "# plt.subplots_adjust(left=0.1, right=0.8, top=0.9, bottom=0.1)\n",
    "# # get the current positions of the joint ax and the ax for the marginal x\n",
    "# pos_joint_ax = kdeplot.ax_joint.get_position()\n",
    "# pos_marg_x_ax = kdeplot.ax_marg_x.get_position()\n",
    "# # reposition the joint ax so it has the same width as the marginal x ax\n",
    "# kdeplot.ax_joint.set_position([pos_joint_ax.x0, pos_joint_ax.y0, pos_marg_x_ax.width, pos_joint_ax.height])\n",
    "# # reposition the colorbar using new x positions and y positions of the joint ax\n",
    "# kdeplot.fig.axes[-1].set_position([.83, pos_joint_ax.y0, .07, pos_joint_ax.height])\n",
    "\n",
    "plt.show()\n"
   ]
  },
  {
   "cell_type": "code",
   "execution_count": 23,
   "metadata": {
    "ExecuteTime": {
     "end_time": "2024-02-06T16:14:26.260302Z",
     "start_time": "2024-02-06T16:14:26.245840Z"
    },
    "colab": {
     "base_uri": "https://localhost:8080/"
    },
    "executionInfo": {
     "elapsed": 25,
     "status": "ok",
     "timestamp": 1668013595028,
     "user": {
      "displayName": "Alireza Fazeli",
      "userId": "13019604121988176443"
     },
     "user_tz": 300
    },
    "id": "lz1xtmnMLZi-",
    "outputId": "8c1a71a8-fe9e-4044-d67d-14a1886b672a"
   },
   "outputs": [
    {
     "data": {
      "text/plain": [
       "array([-5.21866875e+00,  1.78832738e-01, -1.85596626e-03])"
      ]
     },
     "execution_count": 23,
     "metadata": {},
     "output_type": "execute_result"
    }
   ],
   "source": [
    "# Train a model on the training set\n",
    "regr = sklearn.linear_model.LinearRegression()\n",
    "\n",
    "X_fit =  np.c_[D.weeks, D.weeks**2, D.weeks**3]      # adding transformed versions of x to X to better fit the relationship\n",
    "regr.fit(X_fit, D.weight)\n",
    "regr.coef_\n"
   ]
  },
  {
   "cell_type": "code",
   "execution_count": 24,
   "metadata": {
    "ExecuteTime": {
     "end_time": "2024-02-06T15:38:47.896237Z",
     "start_time": "2024-02-06T15:38:47.783856Z"
    },
    "colab": {
     "base_uri": "https://localhost:8080/",
     "height": 279
    },
    "executionInfo": {
     "elapsed": 273,
     "status": "ok",
     "timestamp": 1668013595285,
     "user": {
      "displayName": "Alireza Fazeli",
      "userId": "13019604121988176443"
     },
     "user_tz": 300
    },
    "id": "J6ZW3b8RLZi-",
    "outputId": "192e9941-151a-4d94-8534-3b98245772f8"
   },
   "outputs": [
    {
     "data": {
      "image/png": "[encoded data removed]",
      "text/plain": [
       "<Figure size 640x480 with 1 Axes>"
      ]
     },
     "metadata": {},
     "output_type": "display_data"
    }
   ],
   "source": [
    "# Plot the Fit of model \n",
    "plt.scatter(D.weeks, D.weight)\n",
    "\n",
    "p_weeks = np.linspace(D.weeks.min(), D.weeks.max(), 30) # create new vector\n",
    "\n",
    "X_pred = np.c_[p_weeks, p_weeks**2, p_weeks**3]\n",
    "\n",
    "p_weight = regr.predict(X_pred)\n",
    "\n",
    "plt.plot(p_weeks, p_weight)\n",
    "plt.xlabel(\"Weeks\")\n",
    "plt.ylabel(\"Weight\")\n",
    "plt.show()\n"
   ]
  },
  {
   "cell_type": "markdown",
   "metadata": {
    "id": "RQoK7XvFLZi_"
   },
   "source": [
    "<h2> 3.2. Bootstrap the model parameters </h2>\n"
   ]
  },
  {
   "cell_type": "code",
   "execution_count": null,
   "metadata": {
    "ExecuteTime": {
     "end_time": "2024-02-06T15:54:58.138268Z",
     "start_time": "2024-02-06T15:54:58.105720Z"
    },
    "id": "uueB6NftLZi_"
   },
   "outputs": [],
   "source": [
    "# Write a Bootstrap function that records the fitted models \n",
    "def BootstrapCoef(data, numboot=1000):\n",
    "    n = len(data)\n",
    "    theta =\n",
    "    for i in range(numboot):\n",
    "        d =\n",
    "        X_fit =\n",
    "        regr.\n",
    "        theta[i,:] =\n",
    "    return theta\n"
   ]
  },
  {
   "cell_type": "code",
   "execution_count": null,
   "metadata": {
    "ExecuteTime": {
     "end_time": "2024-02-06T15:54:59.286848Z",
     "start_time": "2024-02-06T15:54:58.401943Z"
    },
    "colab": {
     "base_uri": "https://localhost:8080/"
    },
    "executionInfo": {
     "elapsed": 1714,
     "status": "ok",
     "timestamp": 1668013596994,
     "user": {
      "displayName": "Alireza Fazeli",
      "userId": "13019604121988176443"
     },
     "user_tz": 300
    },
    "id": "XAExd022LZjA",
    "outputId": "bc36de13-1d9a-4683-b566-52510560495b"
   },
   "outputs": [],
   "source": [
    "# Get 1000 Bootstrap fits\n",
    "thetaBS = BootstrapCoef(D)\n",
    "print(thetaBS.shape)\n",
    "thetaBS\n"
   ]
  },
  {
   "cell_type": "code",
   "execution_count": null,
   "metadata": {
    "ExecuteTime": {
     "end_time": "2024-02-06T15:55:06.906574Z",
     "start_time": "2024-02-06T15:55:06.391613Z"
    },
    "colab": {
     "base_uri": "https://localhost:8080/",
     "height": 441
    },
    "executionInfo": {
     "elapsed": 678,
     "status": "ok",
     "timestamp": 1668013597665,
     "user": {
      "displayName": "Alireza Fazeli",
      "userId": "13019604121988176443"
     },
     "user_tz": 300
    },
    "id": "QMxn4j1pLZjA",
    "outputId": "c57f39f2-b433-4f0d-e4d4-96e1f5b249b6"
   },
   "outputs": [],
   "source": [
    "# Make a joint plot of two parameters \n",
    "sns.jointplot(x=thetaBS[:,0],y=thetaBS[:,2])\n",
    "plt.xlabel(r\"$\\beta_{0}$\")\n",
    "plt.ylabel(r\"$\\beta_{2}$\")\n",
    "plt.show()\n"
   ]
  },
  {
   "cell_type": "markdown",
   "metadata": {
    "id": "8VTUQWeELZjB"
   },
   "source": [
    "<h2>3.3. Bootstrap the model prediction</h2>\n"
   ]
  },
  {
   "cell_type": "code",
   "execution_count": null,
   "metadata": {
    "id": "jEUHg2AZLZjB"
   },
   "outputs": [],
   "source": [
    "# Write a Bootstrap function that records the fitted models \n",
    "def BootstrapPred(data, xp, numboot=1000):\n",
    "    n = len(data)\n",
    "    X_pred = \n",
    "    y_pred = \n",
    "    for i in range(numboot):\n",
    "        d = \n",
    "        X_fit = \n",
    "        regr.fit\n",
    "        y_pred\n",
    "    return y_pred\n"
   ]
  },
  {
   "cell_type": "code",
   "execution_count": null,
   "metadata": {
    "colab": {
     "base_uri": "https://localhost:8080/",
     "height": 279
    },
    "executionInfo": {
     "elapsed": 1964,
     "status": "ok",
     "timestamp": 1668013714290,
     "user": {
      "displayName": "Alireza Fazeli",
      "userId": "13019604121988176443"
     },
     "user_tz": 300
    },
    "id": "P7egaNskLZjB",
    "outputId": "cb256494-05b5-4880-f409-4f89fae424cd"
   },
   "outputs": [],
   "source": [
    "# Plot 20 of the bootstrapped predictions \n",
    "yhat_s    = p_weight\n",
    "yhat_boot = BootstrapPred(D, p_weeks)\n",
    "\n",
    "for i in range(20):\n",
    "    plt.plot(p_weeks, yhat_boot[i,:])\n",
    "\n",
    "plt.xlabel(\"Weeks\")\n",
    "plt.ylabel(\"Weight\")\n",
    "plt.show()\n"
   ]
  },
  {
   "cell_type": "code",
   "execution_count": null,
   "metadata": {
    "colab": {
     "base_uri": "https://localhost:8080/",
     "height": 279
    },
    "executionInfo": {
     "elapsed": 445,
     "status": "ok",
     "timestamp": 1668013599991,
     "user": {
      "displayName": "Alireza Fazeli",
      "userId": "13019604121988176443"
     },
     "user_tz": 300
    },
    "id": "grXfDalXLZjC",
    "outputId": "ead36b08-5d34-4636-fe03-251d3ac717c5"
   },
   "outputs": [],
   "source": [
    "# Calculate upper and lower confidence bounds for prediction by bootstrapping\n",
    "\n",
    "boot_CL = 95/100 \n",
    "p_1 = \n",
    "p_2 = \n",
    "\n",
    "boot_quant = \n",
    "\n",
    "boot_ci = [ \n",
    "           ]\n",
    "\n",
    "# Plot prediction\n",
    "plt.plot\n",
    "\n",
    "# plot CI\n",
    "plt.plot\n",
    "plt.plot\n",
    "plt.xlabel(\"Weeks\")\n",
    "plt.ylabel(\"Weight\")\n",
    "plt.legend()\n",
    "plt.show()\n"
   ]
  },
  {
   "cell_type": "markdown",
   "metadata": {
    "collapsed": false
   },
   "source": [
    "<h1> 4 . Uncertainty Toolbox </h1>\n",
    "\n",
    "A python toolbox for predictive uncertainty quantification, calibration, metrics, and visualizations. For more details please see [here](https://github.com/uncertainty-toolbox/uncertainty-toolbox), or [here](https://uncertainty-toolbox.github.io/).\n"
   ]
  },
  {
   "cell_type": "code",
   "execution_count": null,
   "metadata": {
    "ExecuteTime": {
     "end_time": "2024-02-06T16:09:22.161545Z",
     "start_time": "2024-02-06T16:09:22.134928Z"
    },
    "collapsed": false
   },
   "outputs": [],
   "source": [
    "!pip install uncertainty-toolbox\n",
    "import uncertainty_toolbox as uct\n"
   ]
  },
  {
   "cell_type": "code",
   "execution_count": null,
   "metadata": {
    "ExecuteTime": {
     "end_time": "2024-02-06T16:10:10.448686Z",
     "start_time": "2024-02-06T16:10:08.830450Z"
    },
    "collapsed": false
   },
   "outputs": [],
   "source": [
    "pred =\n",
    "pred_mean, pred_std =\n",
    "uct.viz.plot_xy()\n",
    "\n",
    "plt.show()\n"
   ]
  },
  {
   "cell_type": "code",
   "execution_count": null,
   "metadata": {
    "collapsed": false
   },
   "outputs": [],
   "source": [
    "# Plot ordered prediction intervals\n",
    "uct.viz\n",
    "\n",
    "plt.show()\n"
   ]
  },
  {
   "cell_type": "code",
   "execution_count": null,
   "metadata": {
    "collapsed": false
   },
   "outputs": [],
   "source": [
    "# Plot average calibration\n",
    "uct.viz\n",
    "\n",
    "plt.show()\n"
   ]
  },
  {
   "cell_type": "code",
   "execution_count": null,
   "metadata": {
    "collapsed": false
   },
   "outputs": [],
   "source": [
    "# Plot adversarial group calibration\n",
    "uct.viz\n",
    "\n",
    "plt.show()\n"
   ]
  }
 ],
 "metadata": {
  "colab": {
   "provenance": []
  },
  "kernelspec": {
   "display_name": "Python 3 (ipykernel)",
   "language": "python",
   "name": "python3"
  },
  "language_info": {
   "codemirror_mode": {
    "name": "ipython",
    "version": 3
   },
   "file_extension": ".py",
   "mimetype": "text/x-python",
   "name": "python",
   "nbconvert_exporter": "python",
   "pygments_lexer": "ipython3",
   "version": "3.11.5"
  },
  "vscode": {
   "interpreter": {
    "hash": "fd9fd915db2e029ec70cf1bf836846dad4f7aef8f0bedb39edb03932a58b544f"
   }
  }
 },
 "nbformat": 4,
 "nbformat_minor": 0
}
