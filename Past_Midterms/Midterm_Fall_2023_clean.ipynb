{
 "cells": [
  {
   "cell_type": "markdown",
   "metadata": {},
   "source": [
    "---\n",
    "# <span style=\"color:pink\">DS3000A - DS9000A Midterm Exam</span>\n",
    "\n",
    "## <span style=\"color:pink\">Student ID #: _________</span>\n",
    "\n",
    "## <span style=\"color:pink\">Grade: __ / 100</span>\n",
    "\n",
    "## <span style=\"color:pink\">General Comments</span>\n",
    "\n",
    "- This exam integrates knowledge and skills acquired in the first half of the term.\n",
    "\n",
    "- Use of AI agents such as ChatGPT and Copilot is considered an act of cheating and you will receive 0 mark for the exam.\n",
    "\n",
    "- You are allowed to use any other resources on your computer or the internet, but you are **not** allowed to share documents, post questions to forums such as Stack Overflow (this includes use of homework helpers such as Chegg), or communicate in anyway with people inside or outside the exam room.\n",
    "\n",
    "- Having any communication tools (*e.g.*, Discord, Teams, Slack, Outlook etc.) either web-based or app-based open on your computer (or having them running in the background) is considered an act of cheating and you will receive 0 mark for the exam.\n",
    "\n",
    "- To finish the midterm in the alloted time, you will have to work efficiently.\n",
    "\n",
    "- Please read the entirety of each question carefully.\n",
    "\n",
    "- You must have your work submitted by 5:30PM to the \"Test and Quizzes\" section of the course's site on OWL, *i.e.*, the same place where you originally downloaded the notebook. Late submissions will be scored with 0 mark unless one has an approved accommodation for submitting late. Therefore, to avoid technical difficulties at the time of submission, please initiate your submission process at the latest five minutes before the deadline. \n",
    "\n",
    "- Some questions demand a **written answer**. Please answer these in full English sentences in a markdown cell right underneath the question.\n",
    "\n",
    "- For your figures ensure that all axes are labeled in an informative way. To facilitate interpretation, there could be a situation where you should limit the x-axis and/or y-axis to zoom-in.\n",
    "\n",
    "- At the end, before submitting to OWL, restart the kernel and rerun all cells to make sure that your notebook runs error free and as expected.\n",
    "\n",
    "## <span style=\"color:pink\">Additional Guidance</span>\n",
    "\n",
    "- The toolbox cells offer almost every tool that you need to answer the questions, however, depending on your answers, there could be a couple of instances where you'd need to bring in more tools - unless a question imposes certain restrictions.\n",
    "\n",
    "- If at any point you are asking yourself \"are we supposed to...\", write your assumptions clearly and proceed according to them.\n",
    "\n",
    "- If you have no clue how to approach a question, skip it, and move on. Revisit the skipped one(s) after you are done with other questions.\n",
    "\n",
    "- Where applicable, take advantage of the argument `n_jobs=-1` to speed up processes with parallel computing.\n",
    "\n",
    "- To navigate within the notebook, better to take advantage of the notebook's table of contents (normally on the left side of the screen). It saves you time compared to pure mouse scrolling. In VScode, it is nested under the \"OUTLINE\" tab which is by default minimized unless you click it to maximize.\n",
    "\n",
    "- Please ensure that your results are generated using the provided random seed, where applicable."
   ]
  },
  {
   "cell_type": "markdown",
   "metadata": {},
   "source": [
    "---\n",
    "## <span style=\"color:orange\">Global Toolbox</span>"
   ]
  },
  {
   "cell_type": "code",
   "execution_count": null,
   "metadata": {},
   "outputs": [],
   "source": [
    "import warnings; warnings.filterwarnings('ignore')\n",
    "import pandas as pd; pd.set_option('display.max_columns', None)\n",
    "import numpy as np; seed = 202311; np.random.seed(seed)\n",
    "import matplotlib.pyplot as plt\n",
    "import sklearn as sk\n",
    "from IPython.display import display\n",
    "%matplotlib inline"
   ]
  },
  {
   "cell_type": "markdown",
   "metadata": {},
   "source": [
    "---\n",
    "## Question 1 - <span style=\"color:red\">[100]</span> - Regression\n",
    "The data set `Midterm_dataset.csv` , lists salaries of job roles in data profession and has the following attributes:\n",
    "\n",
    "|Index | Attribute | Description |\n",
    "| --- | --- | --- |\n",
    "|0|`exp`|Experience level in the job during the year. In ascending order: EN (entry), MI (mid), SE (senior), EX (executive). Thus, EN refers to no experience and EX to highest level of experience.|\n",
    "|1|`emp_title`|The role the employee worked in during the year.|\n",
    "|2|`compensation`|Salary in USD.|\n",
    "|3|`perc_remote`|Percentage of work done remotely.|\n",
    "|4|`co_size`|The size of the employer company. S for small, M for medium, and L for large.|\n",
    "|5|`co_location`|The country of the employer's main office.|\n",
    "|6|`year`|The year compensation was paid.|\n",
    "|7|`emp_location`|Location of employee's residence during the work year in the format of (latitude,longitude).|\n",
    "|8|`emp_ID`|Employee's identification number at the company.|"
   ]
  },
  {
   "cell_type": "markdown",
   "metadata": {},
   "source": [
    "### <span style=\"color:orange\">Q1 Toolbox</span>"
   ]
  },
  {
   "cell_type": "code",
   "execution_count": null,
   "metadata": {},
   "outputs": [],
   "source": [
    "import seaborn as sns\n",
    "from sklearn.model_selection import train_test_split\n",
    "from sklearn.pipeline import Pipeline\n",
    "from sklearn.model_selection import KFold"
   ]
  },
  {
   "cell_type": "markdown",
   "metadata": {},
   "source": [
    "### Q1.1 - <span style=\"color:red\">[16]</span> - Load the dataset and answer the following questions:\n",
    "\n",
    "1. Are there any `nan` and duplicate rows in the dataframe?\n",
    "2. What percentage of the data pertains to employees who worked entirely in-person? \n",
    "3. Taking 3% as the threshold for statistical significance, what countries (*i.e.*, employer's location) are statistically significant in the data?\n",
    "4. Delete from the dataset the rows belonging to insignificant countries and display the last five rows of this new dataset. **From now on, you will be working with this new dataset.**"
   ]
  },
  {
   "cell_type": "code",
   "execution_count": null,
   "metadata": {},
   "outputs": [],
   "source": [
    "#"
   ]
  },
  {
   "cell_type": "markdown",
   "metadata": {},
   "source": [
    "### Q1.2 - <span style=\"color:red\">[11]</span> - Use box plots to visualize the distributions of salaries based on levels of job experience. Level the box plots on country, so you can see the distributions for each country separately. Answer the following questions solely by relying on your interpretation of the box plots:\n",
    "1. Which country pays higher salaries across all experience levels?\n",
    "2. Within which class of experience level the salaries paid by the countries are most similar? How much job experience people in this class have?"
   ]
  },
  {
   "cell_type": "code",
   "execution_count": null,
   "metadata": {},
   "outputs": [],
   "source": [
    "#"
   ]
  },
  {
   "cell_type": "markdown",
   "metadata": {},
   "source": [
    "### Q1.3 - <span style=\"color:red\">[18]</span> - Eventually, we want to train a regularized regression model to predict salary. With this in mind, for this question, prepare the data for that stage. For the preparation phase, you should use applicable techniques and knowledge covered during the term, but ignore statistical significance of categorical attributes, also, ignore studying pairwise relationships between attributes and/or target. Once you are done with all your preprocessings, split the data into training and test sets with a test set size of 20%."
   ]
  },
  {
   "cell_type": "code",
   "execution_count": null,
   "metadata": {},
   "outputs": [],
   "source": [
    "#"
   ]
  },
  {
   "cell_type": "markdown",
   "metadata": {},
   "source": [
    "### Q1.4 - <span style=\"color:red\">[20]</span> - Train a regression model which uses the following loss function for training:\n",
    "$$J(\\beta)=MSE(\\beta)+\\lambda(r\\sum_{i=1}^n |\\beta_i|+\\frac{1-r}{2}\\sum_{i=1}^n\\beta_i^2).$$\n",
    "\n",
    "With $\\lambda=2$, your model must use a 5-fold cross-validation to find the best value among $[0.1, 0.4, 0.8, 1]$ for the $l_1$ ratio. What is the best value for $l_1$ ratio that you find?"
   ]
  },
  {
   "cell_type": "code",
   "execution_count": null,
   "metadata": {},
   "outputs": [],
   "source": [
    "#"
   ]
  },
  {
   "cell_type": "markdown",
   "metadata": {},
   "source": [
    "### Q1.5 - <span style=\"color:red\">[15]</span> - Report the training and generalization RMSE of your model as well as the mean and standard deviation of its shuffled cross-validation RMSE over 5 folds. Comment on the performance of this model in the context of overfitting/underfitting."
   ]
  },
  {
   "cell_type": "code",
   "execution_count": null,
   "metadata": {},
   "outputs": [],
   "source": [
    "#"
   ]
  },
  {
   "cell_type": "markdown",
   "metadata": {},
   "source": [
    "### Q1.6 - <span style=\"color:red\">[10]</span> - Plot a bar plot showing feature importance for your model for the top 10 attributes."
   ]
  },
  {
   "cell_type": "code",
   "execution_count": null,
   "metadata": {},
   "outputs": [],
   "source": [
    "#"
   ]
  },
  {
   "cell_type": "markdown",
   "metadata": {},
   "source": [
    "### Q1.7 - <span style=\"color:red\">[10]</span> - Calculate the confidence interval based on a confidence level of 95% for the mean of predictions by bootstrapping."
   ]
  },
  {
   "cell_type": "code",
   "execution_count": null,
   "metadata": {},
   "outputs": [],
   "source": [
    "#"
   ]
  }
 ],
 "metadata": {
  "kernelspec": {
   "display_name": "my_py_env",
   "language": "python",
   "name": "python3"
  },
  "language_info": {
   "codemirror_mode": {
    "name": "ipython",
    "version": 3
   },
   "file_extension": ".py",
   "mimetype": "text/x-python",
   "name": "python",
   "nbconvert_exporter": "python",
   "pygments_lexer": "ipython3",
   "version": "3.10.12"
  }
 },
 "nbformat": 4,
 "nbformat_minor": 2
}
