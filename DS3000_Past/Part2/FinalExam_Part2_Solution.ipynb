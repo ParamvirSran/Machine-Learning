{
 "cells": [
  {
   "cell_type": "markdown",
   "metadata": {},
   "source": [
    "#  DS3000A/9000\n",
    "\n",
    "# Final Exam – Part 2 (60 pts)\n",
    "\n",
    "### Student Name: xxxxxxxx\n",
    "### Student ID: xxxxxxxx\n",
    "\n",
    "## General\n",
    "This part of the exam is **Open Book** and you will answer to the programming questions below on this Jupyter Notebook. You have **2 hours (3:00 pm - 5:00 pm)** to finish the exam and upload your notebook on OWL. \n",
    "* You **are allowed** to use any document and sources on your computer and look up documents on the internet. **You need to cite any code that you use if it is NOT from the course Labs or Tutorial examples**.\n",
    "* You or **NOT allowed** to share documents, or communicate in any other way with people inside/outside of the exam room during the final. Using AI chatbots is **NOT allowed and will be counted as cheating or plagiarism**.\n",
    "* All Figures should have a x-axis and y-axis label.\n",
    "* Add as many cells as you want, whenever you need to. \n",
    "* To finish the exam in the alloted time, you will have to work efficiently. You need to submit the exam Jupyter Notebook by the **due date (Dec 12, 2023 at 5:00 pm)** on **OWL in the Assignments / Final Exam - Part 2** where you downloaded the Dataset and Jupyter Notebook. **Late submission will be scored with 0 pts, unless you have received special accommodations. To avoid technical difficulties, start your submission at latest five to ten minutes before the deadline. To be sure, you can also submit multiple versions - only the latest version will be graded. \n",
    "\n",
    "**Ensure that your code runs correctly by choosing \"Kernel -> Restart and Run All\" before submitting.**\n",
    "\n",
    "### Additional Guidance\n",
    "\n",
    "If at any point you are not sure about the answer, then *write your assumptions clearly in your exam and proceed according to those assumptions.*\n",
    "\n",
    "Good luck!"
   ]
  },
  {
   "cell_type": "code",
   "execution_count": 47,
   "metadata": {},
   "outputs": [],
   "source": [
    "## Preliminaries\n",
    "### YOU MAY ADD ADDITIONAL IMPORTS IF YOU WISH\n",
    "import pandas as pd \n",
    "import numpy as np\n",
    "import seaborn as sns\n",
    "from sklearn.model_selection import train_test_split, GridSearchCV\n",
    "from sklearn.preprocessing import StandardScaler\n",
    "from sklearn.linear_model import LinearRegression, LogisticRegression, Ridge, Lasso, LassoCV\n",
    "from sklearn.ensemble import RandomForestClassifier\n",
    "from sklearn.metrics import mean_squared_error, accuracy_score, f1_score, confusion_matrix, roc_curve, auc, roc_auc_score\n",
    "import time\n",
    "import matplotlib.pyplot as plt \n",
    "%matplotlib inline"
   ]
  },
  {
   "cell_type": "markdown",
   "metadata": {},
   "source": [
    "## Dataset\n",
    "In this exam, we will work on the network anomaly detection dataset \"IP_Activity_Dataset_5000.csv\". It was generated from web server access logs and collected from a real-world website in Content Delivery Networks (CDNs). Each sample/row in the dataset represents a unique Internet Protocol (IP) address with 9 columns/variables. Each feature/column is a performance indicator that reflect the state or activity of each sample/IP. The IP addresses were masked due to privacy reasons.  \n",
    "\n",
    "### Variables/Features\n",
    "Feature description: \n",
    "1.\t**requests**: the number of requests sent by per IP.\n",
    "2.\t**request-interval**:  the average time interval between consecutive requests sent by per IP. Unit: milliseconds\n",
    "3.\t**request-popularity**: what percentage of the requests sent by per IP are for popular contents.\n",
    "4.\t**bytes**: the average bytes received by per IP after requesting the content.\n",
    "5.\t**delivery-time**: the average request delivery time experienced by per IP. Unit: milliseconds\n",
    "6.\t**hit-rate**: cache hit rate of per IP.\n",
    "7.\t**nodes**: the number of nodes that received requests from per IP.\n",
    "8.\t**contents**: the number of contents/files that per IP requested for.\n",
    "9.\t**label**: 0-normal, 1-abnormal (potential cache pollution attacks). "
   ]
  },
  {
   "cell_type": "markdown",
   "metadata": {},
   "source": [
    "---\n",
    "# Question 1 - Explore dataset ( X / 5 pts )\n",
    "\n",
    "- Read the dataset \"IP_Activity_Dataset_5000.csv\" as a pandas dataframe.\n",
    "- Print the number of observations in the dataset\n",
    "- Print the number of variables in the dataset (all variables regardless of whether they are a feature or label or neither)\n",
    "- Print the number of observations for each class in the 'label' variable\n",
    "- Print the first five rows of the dataset"
   ]
  },
  {
   "cell_type": "code",
   "execution_count": 48,
   "metadata": {},
   "outputs": [
    {
     "name": "stdout",
     "output_type": "stream",
     "text": [
      "Number of observations:  5000\n",
      "Number of variables:  9\n",
      "Number of observations for each class in the label variable:\n",
      "0    4500\n",
      "1     500\n",
      "Name: label, dtype: int64\n"
     ]
    },
    {
     "data": {
      "text/html": [
       "<div>\n",
       "<style scoped>\n",
       "    .dataframe tbody tr th:only-of-type {\n",
       "        vertical-align: middle;\n",
       "    }\n",
       "\n",
       "    .dataframe tbody tr th {\n",
       "        vertical-align: top;\n",
       "    }\n",
       "\n",
       "    .dataframe thead th {\n",
       "        text-align: right;\n",
       "    }\n",
       "</style>\n",
       "<table border=\"1\" class=\"dataframe\">\n",
       "  <thead>\n",
       "    <tr style=\"text-align: right;\">\n",
       "      <th></th>\n",
       "      <th>requests</th>\n",
       "      <th>request-interval</th>\n",
       "      <th>request-popularity</th>\n",
       "      <th>bytes</th>\n",
       "      <th>delivery-time</th>\n",
       "      <th>hit-rate</th>\n",
       "      <th>nodes</th>\n",
       "      <th>contents</th>\n",
       "      <th>label</th>\n",
       "    </tr>\n",
       "  </thead>\n",
       "  <tbody>\n",
       "    <tr>\n",
       "      <th>0</th>\n",
       "      <td>18</td>\n",
       "      <td>378.605278</td>\n",
       "      <td>1.000000</td>\n",
       "      <td>29.667209</td>\n",
       "      <td>38.833333</td>\n",
       "      <td>0.888889</td>\n",
       "      <td>2</td>\n",
       "      <td>9</td>\n",
       "      <td>0</td>\n",
       "    </tr>\n",
       "    <tr>\n",
       "      <th>1</th>\n",
       "      <td>5</td>\n",
       "      <td>0.524200</td>\n",
       "      <td>1.000000</td>\n",
       "      <td>19.226953</td>\n",
       "      <td>204.600000</td>\n",
       "      <td>1.000000</td>\n",
       "      <td>1</td>\n",
       "      <td>5</td>\n",
       "      <td>0</td>\n",
       "    </tr>\n",
       "    <tr>\n",
       "      <th>2</th>\n",
       "      <td>1141</td>\n",
       "      <td>66.912231</td>\n",
       "      <td>0.167647</td>\n",
       "      <td>19.847204</td>\n",
       "      <td>142.072963</td>\n",
       "      <td>0.021520</td>\n",
       "      <td>5</td>\n",
       "      <td>703</td>\n",
       "      <td>1</td>\n",
       "    </tr>\n",
       "    <tr>\n",
       "      <th>3</th>\n",
       "      <td>80</td>\n",
       "      <td>2.472875</td>\n",
       "      <td>0.418750</td>\n",
       "      <td>1769.312634</td>\n",
       "      <td>1330.787500</td>\n",
       "      <td>1.000000</td>\n",
       "      <td>2</td>\n",
       "      <td>76</td>\n",
       "      <td>0</td>\n",
       "    </tr>\n",
       "    <tr>\n",
       "      <th>4</th>\n",
       "      <td>1</td>\n",
       "      <td>0.000000</td>\n",
       "      <td>1.000000</td>\n",
       "      <td>0.000000</td>\n",
       "      <td>2.000000</td>\n",
       "      <td>1.000000</td>\n",
       "      <td>1</td>\n",
       "      <td>1</td>\n",
       "      <td>0</td>\n",
       "    </tr>\n",
       "  </tbody>\n",
       "</table>\n",
       "</div>"
      ],
      "text/plain": [
       "   requests  request-interval  request-popularity        bytes  delivery-time  \\\n",
       "0        18        378.605278            1.000000    29.667209      38.833333   \n",
       "1         5          0.524200            1.000000    19.226953     204.600000   \n",
       "2      1141         66.912231            0.167647    19.847204     142.072963   \n",
       "3        80          2.472875            0.418750  1769.312634    1330.787500   \n",
       "4         1          0.000000            1.000000     0.000000       2.000000   \n",
       "\n",
       "   hit-rate  nodes  contents  label  \n",
       "0  0.888889      2         9      0  \n",
       "1  1.000000      1         5      0  \n",
       "2  0.021520      5       703      1  \n",
       "3  1.000000      2        76      0  \n",
       "4  1.000000      1         1      0  "
      ]
     },
     "execution_count": 48,
     "metadata": {},
     "output_type": "execute_result"
    }
   ],
   "source": [
    "# 1 point\n",
    "df = pd.read_csv('IP_Activity_Dataset_5000.csv')\n",
    "\n",
    "# 1 point\n",
    "# Prints the number of observations in the dataset\n",
    "print('Number of observations: ', len(df))\n",
    "\n",
    "# 1 point\n",
    "# Prints the number of variables in the dataset\n",
    "print('Number of variables: ', len(df.columns))\n",
    "\n",
    "# 1 point\n",
    "# Prints the number of observations for each class in the 'label' variable\n",
    "print('Number of observations for each class in the label variable:')\n",
    "print(df['label'].value_counts())\n",
    "\n",
    "# 1 point\n",
    "# Prints the first five rows of the dataset\n",
    "df.head()"
   ]
  },
  {
   "cell_type": "markdown",
   "metadata": {},
   "source": [
    "---\n",
    "---\n",
    "# Question 2 - Regression and Evaluation (X / 20 pts)\n",
    "Your next task is to build regression models that predicts the delivery-time of IPs."
   ]
  },
  {
   "cell_type": "markdown",
   "metadata": {},
   "source": [
    "---\n",
    "## Question 2 Part A - Data Splitting For Regression ( X / 2 pts )\n",
    "- Use 'delivery-time' as the target variable y for your regression models, and other variables as the feature set X.\n",
    "- Split the data into equals-sized training and test sets (do not shuffle the data).\n"
   ]
  },
  {
   "cell_type": "code",
   "execution_count": 49,
   "metadata": {},
   "outputs": [],
   "source": [
    "# 1 point\n",
    "# Use 'delivery-time' as the target variable y for your regression models, and other variables as the feature set X.\n",
    "X = df.drop('delivery-time', axis=1)\n",
    "y = df['delivery-time']\n",
    "\n",
    "# 1 point\n",
    "# Split the data into equals-sized training and test sets (do not shuffle the data).\n",
    "X_train, X_test, y_train, y_test = train_test_split(X, y, test_size=0.5, shuffle=False)"
   ]
  },
  {
   "cell_type": "markdown",
   "metadata": {},
   "source": [
    "---\n",
    "## Question 2 Part B - Data Standardization ( X / 2 pts )\n",
    "- Z-standarize the input features of the training and test sets.\n",
    "- All the questions below should be based on the standarized dataset."
   ]
  },
  {
   "cell_type": "code",
   "execution_count": 50,
   "metadata": {},
   "outputs": [],
   "source": [
    "# 2 points\n",
    "# Z-standarize the input features of the training and test sets.\n",
    "scaler = StandardScaler()\n",
    "X_train = scaler.fit_transform(X_train)\n",
    "X_test = scaler.transform(X_test)"
   ]
  },
  {
   "cell_type": "markdown",
   "metadata": {},
   "source": [
    "---\n",
    "## Question 2 Part C - Basic Lasso Regression ( X / 4 pts )\n",
    "- Build a regression model with L1 regularization (Lasso) and the default alpha value. Fit it on your training set, and set the random state to 42.\n",
    "- Report the coefficients and intercept of the model.\n",
    "- Report the Root Mean Square Error (RMSE) to evaluate the testing performance of your model."
   ]
  },
  {
   "cell_type": "code",
   "execution_count": 51,
   "metadata": {},
   "outputs": [
    {
     "name": "stdout",
     "output_type": "stream",
     "text": [
      "Coefficients:  [  10.17733701   18.59594951  103.74664627 5222.06671709 -138.53886518\n",
      "  -26.9272339   328.28445291 -528.78077484]\n",
      "Intercept:  522.2855513716036\n",
      "Lasso RMSE:  2342.731628197046\n"
     ]
    }
   ],
   "source": [
    "# 1 point\n",
    "lasso = Lasso(random_state = 42)\n",
    "lasso.fit(X_train, y_train)\n",
    "\n",
    "# 1 point\n",
    "print('Coefficients: ', lasso.coef_)\n",
    "print('Intercept: ', lasso.intercept_)\n",
    "\n",
    "# 2 points\n",
    "y_pred_lasso = lasso.predict(X_test)\n",
    "print('Lasso RMSE: ', np.sqrt(mean_squared_error(y_test, y_pred_lasso)))"
   ]
  },
  {
   "cell_type": "markdown",
   "metadata": {},
   "source": [
    "---\n",
    "## Question 2 Part D - Determine the Optimal Regularization Term ( X / 12 pts )\n",
    "- Perform Lasso Regression with 5-fold cross-validation on the training set to find and **print out** the optimal regularization parameter (alpha) value. Vary the regularization parameter (alpha) between 0.01 and 100, evenly spaced in log-space, and generate 100 values. Set the random state to 42. Tip: use LassoCV function.\n",
    "- Create a plot showing the relationship between these 100 alpha values and their corresponding mean RMSE values. Sets the scale of the x-axis to a logarithmic scale. \n",
    "- Build and fit a Lasso Regression model on the training set using the optimal alpha and a random state of 42. Report the coefficients and intercept of the model. Report the Root Mean Square Error (RMSE) to evaluate the testing performance of your model."
   ]
  },
  {
   "cell_type": "code",
   "execution_count": 52,
   "metadata": {},
   "outputs": [
    {
     "name": "stdout",
     "output_type": "stream",
     "text": [
      "Optimal alpha value: 8.111308307896872\n"
     ]
    },
    {
     "data": {
      "image/png": "[encoded data removed]",
      "text/plain": [
       "<Figure size 640x480 with 1 Axes>"
      ]
     },
     "metadata": {},
     "output_type": "display_data"
    }
   ],
   "source": [
    "# 1 point\n",
    "# Define the search space of alpha\n",
    "# all the following alpha value generation code are acceptable\n",
    "# alphas = np.logspace(-2, 2, 100)\n",
    "# alphas = np.logspace(np.log10(0.01), np.log10(100), num=100)\n",
    "# alphas = np.exp(np.linspace(np.log(0.01),np.log(100),100))\n",
    "alphas = np.geomspace(0.01,100,100)\n",
    "\n",
    "# 2 points\n",
    "# Apply Lasso Regression with 5-fold cross-validation (they can also\n",
    "# use other CV functions,like cross_validate(lasso, X_train, y_train, cv=5))\n",
    "lasso_cv = LassoCV(alphas=alphas, cv=5, random_state=42)\n",
    "lasso_cv.fit(X_train, y_train)\n",
    "\n",
    "# 1 point\n",
    "# Determine and report the optimal alpha value\n",
    "optimal_alpha = lasso_cv.alpha_\n",
    "print(\"Optimal alpha value:\", optimal_alpha)\n",
    "\n",
    "# 2 points\n",
    "# Create a plot of alpha values vs. mean MSE\n",
    "# Calculate mean RMSE for each alpha\n",
    "mean_rmse = np.sqrt(np.mean(lasso_cv.mse_path_, axis=1))\n",
    "plt.figure()\n",
    "plt.plot(lasso_cv.alphas_, mean_rmse, marker='o')\n",
    "plt.xlabel('Alpha')\n",
    "plt.ylabel('Mean RMSE')\n",
    "plt.title('Mean RMSE vs Alpha (5-fold CV)')\n",
    "plt.xscale('log') \n",
    "plt.grid()\n",
    "plt.show()"
   ]
  },
  {
   "cell_type": "code",
   "execution_count": 53,
   "metadata": {},
   "outputs": [
    {
     "name": "stdout",
     "output_type": "stream",
     "text": [
      "Coefficients:  [ 0.00000000e+00  9.80979380e+00  8.45399253e+01  5.21093772e+03\n",
      " -1.12052875e+02 -4.86181219e+00  3.09342072e+02 -5.16502916e+02]\n",
      "Intercept:  522.2855513716036\n",
      "Lasso RMSE:  2341.008950213638\n"
     ]
    }
   ],
   "source": [
    "# 2 points\n",
    "lasso_optimal = Lasso(alpha = optimal_alpha, random_state = 42)\n",
    "lasso_optimal.fit(X_train, y_train)\n",
    "\n",
    "# 2 points\n",
    "print('Coefficients: ', lasso_optimal.coef_)\n",
    "print('Intercept: ', lasso_optimal.intercept_)\n",
    "\n",
    "# 2 points\n",
    "y_pred_lasso_optimal = lasso_optimal.predict(X_test)\n",
    "print('Lasso RMSE: ', np.sqrt(mean_squared_error(y_test, y_pred_lasso_optimal)))"
   ]
  },
  {
   "cell_type": "markdown",
   "metadata": {},
   "source": [
    "---\n",
    "---\n",
    "# Question 3 - Classification and Evaluation (X / 35 pts)\n",
    "Your next task is to build classification models that can identify the malicious attacker IPs."
   ]
  },
  {
   "cell_type": "markdown",
   "metadata": {},
   "source": [
    "---\n",
    "## Question 3 Part A - Data Splitting For Classification ( X / 2 pts )\n",
    "- Use 'label' as the target variable y for your classification models for abnormal IP detection, and other variables as the feature set X.\n",
    "- Split the data into equals-sized training and test sets, and ensure the balanced distribution of labels when splitting data."
   ]
  },
  {
   "cell_type": "code",
   "execution_count": 54,
   "metadata": {},
   "outputs": [],
   "source": [
    "# 1 point\n",
    "# Use 'label' as the target variable y for your classification models, and other variables as the feature set X.\n",
    "X = df.drop('label', axis=1)\n",
    "y = df['label']\n",
    "\n",
    "# 1 point\n",
    "# Split the data into equals-sized training and test sets (do not shuffle the data).\n",
    "X_train, X_test, y_train, y_test = train_test_split(X, y, test_size=0.5, stratify=y)"
   ]
  },
  {
   "cell_type": "markdown",
   "metadata": {},
   "source": [
    "---\n",
    "## Question 3 Part B - Data Standardization ( X / 2 pts )\n",
    "- Z-standarize the input features of the training and test sets.\n",
    "- All the questions below should be based on the standarized dataset."
   ]
  },
  {
   "cell_type": "code",
   "execution_count": 55,
   "metadata": {},
   "outputs": [],
   "source": [
    "# 2 points\n",
    "# Z-standarize the input features of the training and test sets.\n",
    "scaler = StandardScaler()\n",
    "X_train = scaler.fit_transform(X_train)\n",
    "X_test = scaler.transform(X_test)"
   ]
  },
  {
   "cell_type": "markdown",
   "metadata": {},
   "source": [
    "---\n",
    "## Question 3 Part C - Random Forest ( X / 5 pts )\n",
    "- Build a Random Forest model that consists of 5 base decision trees with the maximum depth of 5, and fit the training set. Set random state to 42.\n",
    "- Print out the accuracy, F1-score, confusion matrix, and execution time (including both training and testing time) of the model when evaluating the testing performance of your model.\n"
   ]
  },
  {
   "cell_type": "code",
   "execution_count": 56,
   "metadata": {},
   "outputs": [
    {
     "name": "stdout",
     "output_type": "stream",
     "text": [
      "Accuracy:  0.9932\n",
      "F1-score:  0.96579476861167\n",
      "Confusion matrix: \n",
      " [[2243    7]\n",
      " [  10  240]]\n",
      "Execution time:  0.019367694854736328\n"
     ]
    }
   ],
   "source": [
    "# 2 points\n",
    "rf = RandomForestClassifier(n_estimators=5, max_depth=5, random_state=42)\n",
    "\n",
    "# 3 points\n",
    "t1=time.time()\n",
    "rf.fit(X_train, y_train)\n",
    "y_pred = rf.predict(X_test)\n",
    "t2=time.time()\n",
    "print('Accuracy: ', rf.score(X_test, y_test))\n",
    "print('F1-score: ', f1_score(y_test, y_pred))\n",
    "print('Confusion matrix: \\n', confusion_matrix(y_test, y_pred))\n",
    "print('Execution time: ', t2-t1)"
   ]
  },
  {
   "cell_type": "markdown",
   "metadata": {},
   "source": [
    "---\n",
    "## Question 3 Part D - Feature Selection by Random Forest ( X / 14 pts )\n",
    "- Use the Random Forest model you built in Q3-C to generate feature importance scores and select the most important features (rank the importance scores of each feature in descending order, and only select the important features from most to least important until the accumulated relative importance score reaches 90% or 0.9).\n",
    "- Use a horizontal bar chart to plot the importance scores of all features in descending order. Add appropriate x-axis and y-axis labels.\n",
    "- Print out the selected features with their importance scores, and generate the new training and test sets with the new feature set. \n",
    "- Retrain the same Random Forest model from Q3-C on the new training set, and print out the accuracy, F1-score, confusion matrix, and execution time (including both training and testing time) of the model on the new test set.\n",
    "- Plot the ROC curve for evaluating the Random Forest model on the new test set and report the area under the ROC curve."
   ]
  },
  {
   "cell_type": "code",
   "execution_count": 57,
   "metadata": {},
   "outputs": [
    {
     "data": {
      "image/png": "[encoded data removed]",
      "text/plain": [
       "<Figure size 640x480 with 1 Axes>"
      ]
     },
     "metadata": {},
     "output_type": "display_data"
    },
    {
     "name": "stdout",
     "output_type": "stream",
     "text": [
      "-----------------------------------------------\n",
      "Selected features:\n",
      "contents (0.361612)\n",
      "request-popularity (0.306835)\n",
      "requests (0.092525)\n",
      "hit-rate (0.091732)\n",
      "nodes (0.082639)\n",
      "-----------------------------------------------\n",
      "Accuracy:  0.996\n",
      "F1-score:  0.9799196787148594\n",
      "Confusion matrix: \n",
      " [[2246    4]\n",
      " [   6  244]]\n",
      "Execution time:  0.009582757949829102\n",
      "-----------------------------------------------\n"
     ]
    },
    {
     "data": {
      "image/png": "[encoded data removed]",
      "text/plain": [
       "<Figure size 640x480 with 1 Axes>"
      ]
     },
     "metadata": {},
     "output_type": "display_data"
    },
    {
     "name": "stdout",
     "output_type": "stream",
     "text": [
      "The area under the ROC curve is  0.987111111111111\n"
     ]
    }
   ],
   "source": [
    "# 1 point\n",
    "# Get feature importances and sort them in descending order\n",
    "feature_importances = rf.feature_importances_\n",
    "indices = np.argsort(feature_importances)[::-1]\n",
    "\n",
    "# 2 points\n",
    "# Select only the important features until accumulated importance reaches 90%\n",
    "importance_sum = 0.0\n",
    "selected_indices = []\n",
    "for i in range(X.shape[1]):\n",
    "    importance_sum += feature_importances[indices[i]]\n",
    "    selected_indices.append(indices[i])\n",
    "    if importance_sum >= 0.9:\n",
    "        break\n",
    "\n",
    "# 2 points\n",
    "# Use a horizontal bar chart to plot the importance scores of all features in descending order. Add appropriate x-axis and y-axis labels.\n",
    "feature_names = X.columns\n",
    "f_importances = pd.Series(rf.feature_importances_, index=feature_names).sort_values()\n",
    "ax = f_importances.plot.barh()\n",
    "ax.set_title(\"Random Forest Feature Importances\")\n",
    "ax.set_xlabel(\"Importance Score\")\n",
    "ax.set_ylabel(\"Feature Name\")\n",
    "ax.figure.tight_layout()\n",
    "plt.show()\n",
    "\n",
    "# 1 point\n",
    "# Print the selected features\n",
    "print(\"-----------------------------------------------\")\n",
    "print(\"Selected features:\")\n",
    "for i in selected_indices:\n",
    "    print(\"%s (%f)\" % (feature_names[i], feature_importances[i]))\n",
    "\n",
    "# 1 point\n",
    "# Generate new training and test sets with the new feature set\n",
    "X_train_selected = X_train[:, selected_indices]\n",
    "X_test_selected = X_test[:, selected_indices]\n",
    "\n",
    "# 4 points\n",
    "# Retrain the same RF model on the new training set, and print out the accuracy, F1-score, confusion matrix, and execution time (including both training and testing time) of the model on the new test set\n",
    "print(\"-----------------------------------------------\")\n",
    "t1=time.time()\n",
    "rf.fit(X_train_selected, y_train)\n",
    "y_pred = rf.predict(X_test_selected)\n",
    "t2=time.time()\n",
    "print('Accuracy: ', rf.score(X_test_selected, y_test))\n",
    "print('F1-score: ', f1_score(y_test, y_pred))\n",
    "print('Confusion matrix: \\n', confusion_matrix(y_test, y_pred))\n",
    "print('Execution time: ', t2-t1)\n",
    "\n",
    "# 2 points\n",
    "# Plot the ROC curve for evaluating the model on the test set.\n",
    "print(\"-----------------------------------------------\")\n",
    "fpr, tpr, thresholds = roc_curve(y_test, y_pred)\n",
    "roc_auc = auc(fpr, tpr)\n",
    "fig3 = plt.figure(num=3)\n",
    "plt.plot(fpr, tpr, label = 'AUC: ' + str(roc_auc))\n",
    "plt.plot([0, 1], [0, 1], color='navy', lw=2, linestyle='--')\n",
    "plt.legend(loc=4)\n",
    "plt.xlabel('False Positives')\n",
    "plt.ylabel('True Positives')\n",
    "plt.title('ROC Curve')\n",
    "plt.show()\n",
    "\n",
    "# 1 point\n",
    "# Report AUC\n",
    "print('The area under the ROC curve is ', roc_auc)"
   ]
  },
  {
   "cell_type": "markdown",
   "metadata": {},
   "source": [
    "---\n",
    "## Question 3 Part E - Hyperparamete Tuning of Random Forest ( X / 8 pts )\n",
    "- Use 3-fold grid search to tune two hyperparameters for the Random Forest model you built in Q3-D:\n",
    "    - The number of base estimators/decision trees (find the better value among the two numbers 10 and 20).\n",
    "    - The maximum tree depth (find the better value among the two numbers 10 and 20).\n",
    "- Print out the detected better hyperparameter values and cross-validation score.\n",
    "- Build the Random Forest model with the better hyperparameter values you found, and fit the new training set from Q3-D.\n",
    "- Report the accuracy, F1-score. confusion matrix, and execution time (including both training and testing time) of the model when evaluating the testing performance of your model on the new test set from Q3-D.\n"
   ]
  },
  {
   "cell_type": "code",
   "execution_count": 58,
   "metadata": {},
   "outputs": [
    {
     "name": "stdout",
     "output_type": "stream",
     "text": [
      "Best parameters:  {'max_depth': 10, 'n_estimators': 20}\n",
      "Best cross-validation score:  0.9967996791042557\n"
     ]
    }
   ],
   "source": [
    "# 3 points\n",
    "# Use 3-fold grid search to find the best hyperparameters for the Random Forest model you built in the previous question.\n",
    "param_grid = {'n_estimators': [10, 20], 'max_depth': [10, 20]}\n",
    "grid = GridSearchCV(rf, param_grid, cv=3)\n",
    "grid.fit(X_train_selected, y_train)\n",
    "\n",
    "# 1 point\n",
    "# Print out the detected better hyperparameter values and cross-validation score.\n",
    "print('Best parameters: ', grid.best_params_)\n",
    "print('Best cross-validation score: ', grid.best_score_)"
   ]
  },
  {
   "cell_type": "code",
   "execution_count": 59,
   "metadata": {},
   "outputs": [
    {
     "name": "stdout",
     "output_type": "stream",
     "text": [
      "Accuracy:  0.9964\n",
      "F1-score:  0.9818913480885312\n",
      "Confusion matrix: \n",
      " [[2247    3]\n",
      " [   6  244]]\n",
      "Execution time:  0.033200979232788086\n"
     ]
    }
   ],
   "source": [
    "# 2 points\n",
    "# Build the Random Forest model with the better hyperparameter values you found in the previous\n",
    "# question, and fit the training set.\n",
    "rf = RandomForestClassifier(n_estimators=20, max_depth=10, random_state=42)\n",
    "t1=time.time()\n",
    "rf.fit(X_train_selected, y_train)\n",
    "y_pred = rf.predict(X_test_selected)\n",
    "t2=time.time()\n",
    "\n",
    "# 2 points\n",
    "# Report the accuracy, F1-score. confusion matrix, and execution time (including both training and testing time)\n",
    "# of the model when evaluating the testing performance of your model.\n",
    "print('Accuracy: ', rf.score(X_test_selected, y_test))\n",
    "print('F1-score: ', f1_score(y_test, y_pred))\n",
    "print('Confusion matrix: \\n', confusion_matrix(y_test, y_pred))\n",
    "print('Execution time: ', t2-t1)"
   ]
  },
  {
   "cell_type": "markdown",
   "metadata": {},
   "source": [
    "---\n",
    "## Question 3 Part F - Classification Model Performance Discussion ( X / 4 pts )\n",
    "- Compare the performance of the three models from Questions 3-C, 3-D, and 3-E, and discuss reasons for performance difference.\n",
    "- Compare the execution time of the three models from Questions 3-C, 3-D, and 3-E, and discuss reasons for time/efficiency difference."
   ]
  },
  {
   "cell_type": "code",
   "execution_count": 60,
   "metadata": {},
   "outputs": [],
   "source": [
    "# These text questions don't have fix answers. Give full marks as long as the discussion/analysis make sense."
   ]
  },
  {
   "cell_type": "code",
   "execution_count": 61,
   "metadata": {},
   "outputs": [],
   "source": [
    "# 2 points: 1 point for comparing the performance of the models and 1 point for discussing reasons. "
   ]
  },
  {
   "cell_type": "markdown",
   "metadata": {},
   "source": [
    "#### Written answer: Explain here.\n",
    "The results showed that Model 3-E outperformed Model 3-D in terms of accuracy and F1 score, while Model 3-D outperformed Model 3-C. This indicates that feature selection and hyperparameter tuning can improve the performance of RF models.\n",
    "\n",
    "The improvement in Model 3-D can be attributed to the fact that feature selection helps to remove irrelevant features and noise from the data, which can improve the performance of the model. The improvement in Model 3-E can be attributed to the fact that hyperparameter tuning helps to find the optimal values of the hyperparameters to build an optimized or better model, which can further improve the performance of the model.\n"
   ]
  },
  {
   "cell_type": "code",
   "execution_count": 62,
   "metadata": {},
   "outputs": [],
   "source": [
    "# 2 points: 1 point for comparing the performance of the models and 1 point for discussing reasons. "
   ]
  },
  {
   "cell_type": "markdown",
   "metadata": {},
   "source": [
    "#### Written answer: Explain here.\n",
    "In this scenario, the execution time of Model 3-E was slightly higher than Model 3-C, while the execution time of Model 3-C was slightly higher than Model 3-D.\n",
    "\n",
    "The reason why Model 3-E has a higher execution time than Model 3-C can be attributed to the fact that Model 3-E has a higher number of estimators (n_estimators) and higher max_depth due to hyperparameter tuning, which can increase the model complexity and hence increase the execution time.\n",
    "\n",
    "The reason why Model 3-C has a higher execution time than Model 3-D can be attributed to the fact that Model 3-C does not use feature selection, so it has to process all the features in the data, which can increase the computational complexity and hence increase the execution time."
   ]
  },
  {
   "cell_type": "markdown",
   "metadata": {},
   "source": [
    "---\n",
    "---\n",
    "---\n",
    "**You're done! As always, double-check your work by re-running the notebook from scratch.**"
   ]
  }
 ],
 "metadata": {
  "kernelspec": {
   "display_name": "Python 3 (ipykernel)",
   "language": "python",
   "name": "python3"
  },
  "language_info": {
   "codemirror_mode": {
    "name": "ipython",
    "version": 3
   },
   "file_extension": ".py",
   "mimetype": "text/x-python",
   "name": "python",
   "nbconvert_exporter": "python",
   "pygments_lexer": "ipython3",
   "version": "3.10.12"
  },
  "vscode": {
   "interpreter": {
    "hash": "ad2bdc8ecc057115af97d19610ffacc2b4e99fae6737bb82f5d7fb13d2f2c186"
   }
  }
 },
 "nbformat": 4,
 "nbformat_minor": 4
}
